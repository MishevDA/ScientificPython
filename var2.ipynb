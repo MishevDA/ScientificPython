{
 "cells": [
  {
   "cell_type": "markdown",
   "metadata": {},
   "source": [
    "# Системы компьютерной математики.\n",
    "\n",
    "## Мишев Д.А. 3821Б1ПР2\n",
    "\n",
    "## Вариант 2\n"
   ]
  },
  {
   "cell_type": "code",
   "execution_count": 1,
   "metadata": {},
   "outputs": [],
   "source": [
    "import numpy as np\n",
    "import matplotlib.pyplot as plt\n",
    "%matplotlib inline\n",
    "from scipy import integrate"
   ]
  },
  {
   "cell_type": "markdown",
   "metadata": {},
   "source": [
    "## Численное вычисление интеграла\n",
    "\n",
    "С помощью интеграла \n",
    "\n",
    "$$\\pi = \\int_0^1\\frac{4}{1+x^2}dx$$\n",
    "\n",
    "найдем приближение к $pi$."
   ]
  },
  {
   "cell_type": "markdown",
   "metadata": {},
   "source": [
    "Нарисуем график данного интеграла "
   ]
  },
  {
   "cell_type": "code",
   "execution_count": 3,
   "metadata": {},
   "outputs": [
    {
     "data": {
      "image/png": "[encoded data removed]",
      "text/plain": [
       "<Figure size 432x288 with 1 Axes>"
      ]
     },
     "metadata": {
      "needs_background": "light"
     },
     "output_type": "display_data"
    }
   ],
   "source": [
    "x = np.linspace(1e-3, 1, 100)\n",
    "y = 4/(1 + x**2)\n",
    "plt.plot(x, y)\n",
    "plt.grid()\n",
    "pass"
   ]
  },
  {
   "cell_type": "markdown",
   "metadata": {},
   "source": [
    "#### 1.Посчитаем интеграл с помощью формулы прямоугольника с $2$, $4$, $8$, $16$, $32$, $64$ и $128$ узлами"
   ]
  },
  {
   "cell_type": "code",
   "execution_count": 4,
   "metadata": {},
   "outputs": [
    {
     "name": "stdout",
     "output_type": "stream",
     "text": [
      "Кол-во узлов:  2\n",
      "Погрешность:  0.006608204778857998\n",
      "Кол-во узлов:  4\n",
      "Погрешность:  0.0016577148530694244\n",
      "Кол-во узлов:  8\n",
      "Погрешность:  0.00041446366396609804\n",
      "Кол-во узлов:  16\n",
      "Погрешность:  0.0001036164629411586\n",
      "Кол-во узлов:  32\n",
      "Погрешность:  2.5904124282712304e-05\n",
      "Кол-во узлов:  64\n",
      "Погрешность:  6.476031203766619e-06\n",
      "Кол-во узлов:  128\n",
      "Погрешность:  1.619007803450759e-06\n"
     ]
    },
    {
     "data": {
      "text/plain": [
       "3.1415977398528145"
      ]
     },
     "execution_count": 4,
     "metadata": {},
     "output_type": "execute_result"
    },
    {
     "data": {
      "image/png": "[encoded data removed]",
      "text/plain": [
       "<Figure size 432x288 with 1 Axes>"
      ]
     },
     "metadata": {
      "needs_background": "light"
     },
     "output_type": "display_data"
    }
   ],
   "source": [
    "a = 0\n",
    "b = 1\n",
    "for n in [2, 4, 8, 16, 32, 64, 128]:\n",
    "    h = (b - a)/n\n",
    "    x = np.arange(a + h/2, b, h)\n",
    "    y =4/(1+x**2)\n",
    "    I_rect =h*sum(y)\n",
    "    plt.plot(n,abs(np.pi-I_rect)/(np.pi),'o',color='tab:green')\n",
    "    print('Кол-во узлов: ',n)\n",
    "    print('Погрешность: ',abs(np.pi-I_rect)/(np.pi))\n",
    "Igreat_rect=I_rect\n",
    "Rectgreat= abs(np.pi-I_rect)/(np.pi)\n",
    "plt.yscale('log')\n",
    "plt.xscale('log')\n",
    "pass\n",
    "Igreat_rect"
   ]
  },
  {
   "cell_type": "markdown",
   "metadata": {},
   "source": [
    "#### 2.Посчитаем интеграл с помощью формулы трапеции с $2$, $4$, $8$, $16$, $32$, $64$ и $128$ узлами"
   ]
  },
  {
   "cell_type": "code",
   "execution_count": 9,
   "metadata": {},
   "outputs": [
    {
     "name": "stdout",
     "output_type": "stream",
     "text": [
      "Кол-во узлов  2\n",
      "Погрешность  0.013239352830248852\n",
      "Кол-во узлов  4\n",
      "Погрешность  0.0033155740256952146\n",
      "Кол-во узлов  8\n",
      "Погрешность  0.0008289295863128951\n",
      "Кол-во узлов  16\n",
      "Погрешность  0.00020723296117346922\n",
      "Кол-во узлов  32\n",
      "Погрешность  5.180824911615532e-05\n",
      "Кол-во узлов  64\n",
      "Погрешность  1.2952062416862866e-05\n",
      "Кол-во узлов  128\n",
      "Погрешность  3.238015606336086e-06\n"
     ]
    },
    {
     "data": {
      "text/plain": [
       "3.141582481063752"
      ]
     },
     "execution_count": 9,
     "metadata": {},
     "output_type": "execute_result"
    },
    {
     "data": {
      "image/png": "[encoded data removed]",
      "text/plain": [
       "<Figure size 432x288 with 1 Axes>"
      ]
     },
     "metadata": {
      "needs_background": "light"
     },
     "output_type": "display_data"
    }
   ],
   "source": [
    "\n",
    "for n in [2,4,8,16,32,64,128]:\n",
    "    h = (b - a)/n\n",
    "    x = np.linspace(a, b, n + 1)\n",
    "    y = 4/(1+x**2)\n",
    "    I_trapz = integrate.trapz(y, x)\n",
    "    plt.plot(n,(np.pi-I_trapz)/(np.pi),'o',color='tab:orange')\n",
    "    print('Кол-во узлов ',n)\n",
    "    print('Погрешность ',(np.pi-I_trapz)/(np.pi))\n",
    "plt.yscale('log')\n",
    "plt.xscale('log')\n",
    "pass\n",
    "Trapzgreat= abs(np.pi-I_trapz)/(np.pi)\n",
    "Igreat_trapz=I_trapz\n",
    "Igreat_trapz"
   ]
  },
  {
   "cell_type": "markdown",
   "metadata": {},
   "source": [
    "#### 3.Посчитаем интеграл с помощью правила Симпсона с $2$, $4$, $8$, $16$, $32$, $64$ и $128$ узлами"
   ]
  },
  {
   "cell_type": "code",
   "execution_count": 6,
   "metadata": {
    "scrolled": true
   },
   "outputs": [
    {
     "name": "stdout",
     "output_type": "stream",
     "text": [
      "Кол-во узлов  2\n",
      " Погрешность  0.0026290232907892\n",
      "Кол-во узлов  4\n",
      " Погрешность  7.647757510904547e-06\n",
      "Кол-во узлов  8\n",
      " Погрешность  4.8106519024246646e-08\n",
      "Кол-во узлов  16\n",
      " Погрешность  7.527937548427748e-10\n",
      "Кол-во узлов  32\n",
      " Погрешность  1.1763811581839728e-11\n",
      "Кол-во узлов  64\n",
      " Погрешность  1.8376538159566985e-13\n",
      "Кол-во узлов  128\n",
      " Погрешность  2.8271597168564595e-15\n"
     ]
    },
    {
     "data": {
      "text/plain": [
       "3.1415926535897842"
      ]
     },
     "execution_count": 6,
     "metadata": {},
     "output_type": "execute_result"
    },
    {
     "data": {
      "image/png": "[encoded data removed]",
      "text/plain": [
       "<Figure size 432x288 with 1 Axes>"
      ]
     },
     "metadata": {
      "needs_background": "light"
     },
     "output_type": "display_data"
    }
   ],
   "source": [
    "for n in [2,4,8,16,32,64,128]:\n",
    "    h = (b - a)/n\n",
    "    x = np.linspace(a, b, n + 1)\n",
    "    y = 4/(1+x**2)\n",
    "    I_simps=integrate.simps(y)*h\n",
    "    plt.plot(n,abs(np.pi-I_simps)/(np.pi),'o',color='tab:red')\n",
    "    print('Кол-во узлов ',n)\n",
    "    print(' Погрешность ',abs(np.pi-I_simps)/(np.pi))\n",
    "plt.yscale('log')\n",
    "plt.xscale('log')\n",
    "pass\n",
    "Simpgreat= abs(np.pi-I_simps)/(np.pi)\n",
    "Igreat_simps=I_simps\n",
    "Igreat_simps"
   ]
  },
  {
   "cell_type": "markdown",
   "metadata": {},
   "source": [
    "# Вывод\n",
    "Метод Симпоса, как и ожидалось, самый точный, поскольку он имеет 4 порядок сходимости.\n",
    "Формула средних прямоугольников оказалась более точной чем формула трапеций, что странно, так как они имеют одинаковый порядок сходимости.\n",
    "В результате проведенной работы было выяснено, что погрешность изменяется по гармоническому закону \n",
    "\n",
    "$$f(x)=\\frac{1}{x^n}$$\n",
    "\n",
    "С увеличением числа элементарных элементов погрешность уменьшается,удвоение числа элементарных отрезков для формулы средних прямоугольников и трапеций – приблизительно учетверяет точность. В методе симпсона же погрешность уменьшается примерно в 16 раз."
   ]
  },
  {
   "cell_type": "code",
   "execution_count": null,
   "metadata": {},
   "outputs": [],
   "source": []
  }
 ],
 "metadata": {
  "kernelspec": {
   "display_name": "Python 3 (ipykernel)",
   "language": "python",
   "name": "python3"
  },
  "language_info": {
   "codemirror_mode": {
    "name": "ipython",
    "version": 3
   },
   "file_extension": ".py",
   "mimetype": "text/x-python",
   "name": "python",
   "nbconvert_exporter": "python",
   "pygments_lexer": "ipython3",
   "version": "3.9.12"
  }
 },
 "nbformat": 4,
 "nbformat_minor": 4
}
